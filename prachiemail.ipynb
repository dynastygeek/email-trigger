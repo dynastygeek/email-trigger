{
 "cells": [
  {
   "cell_type": "code",
   "execution_count": 1,
   "id": "ba5eef41-660a-4b3b-a364-57ccdfc65408",
   "metadata": {},
   "outputs": [],
   "source": [
    "import schedule\n",
    "import time\n",
    "import win32com.client as win32\n",
    "import pandas as pd \n",
    "from datetime import datetime"
   ]
  },
  {
   "cell_type": "code",
   "execution_count": 3,
   "id": "4b005b5e-38fb-44f2-97de-cb89205023ad",
   "metadata": {},
   "outputs": [],
   "source": [
    "def get_csv_file(file_path):\n",
    "    df = pd.read_csv(file_path)\n",
    "    return df"
   ]
  },
  {
   "cell_type": "code",
   "execution_count": 5,
   "id": "39d0f5c2-2ae6-4df9-948e-15c7e1247e16",
   "metadata": {},
   "outputs": [],
   "source": [
    "def get_today_date():\n",
    "    return datetime.now().date()"
   ]
  },
  {
   "cell_type": "code",
   "execution_count": 7,
   "id": "2f9e784c-0aee-4426-b4a0-7f44c874faef",
   "metadata": {},
   "outputs": [],
   "source": [
    "def send_emails(to_add, subject, body, attachment = None):\n",
    "    \n",
    "    outlook = win32.Dispatch(\"Outlook.Application\")\n",
    "    mail = outlook.CreateItem(0)\n",
    "\n",
    "    mail.To = to_add\n",
    "    mail.Subject = subject\n",
    "    mail.Body = body\n",
    "    if attachment:\n",
    "        mail.Attachments.Add(attachment)\n",
    "    try:\n",
    "        mail.Send()\n",
    "        print(f\"Email sent to {to_add} with subject: {subject}\")\n",
    "    except Exception as e:\n",
    "        print(f\"Failed to send email to {to_add}. Error: {e}\")\n",
    "    "
   ]
  },
  {
   "cell_type": "code",
   "execution_count": 9,
   "id": "63aa23f2-6c03-40b4-b3f3-14c99e0d2427",
   "metadata": {},
   "outputs": [
    {
     "name": "stdout",
     "output_type": "stream",
     "text": [
      "Email sent to prachilahane9@gmail.com with subject: BIRTHDAY WISHES\n"
     ]
    }
   ],
   "source": [
    "def check_for_birthdays_and_work_anniversary(df):\n",
    "    \n",
    "    today = get_today_date()\n",
    "    \n",
    "    for index, row in df.iterrows():\n",
    "        # name = row['ENAME']\n",
    "        email = row['EMPEMAIL']\n",
    "        dob = row['DOB']\n",
    "        doj = row['DOJ']\n",
    "        \n",
    "        if pd.notna(row['DOB']):\n",
    "            birthday = pd.to_datetime(dob,format=\"%d-%m-%Y\").date()\n",
    "            age = today.year - birthday.year\n",
    "            if (today.month, today.day) < (birthday.month, birthday.day):\n",
    "                age -= 1\n",
    "            if today.day == birthday.day and today.month == birthday.month:\n",
    "                subject = \"BIRTHDAY WISHES\"\n",
    "                body = (f\" Dear ,\\n\\n\" \n",
    "                        \"🎉 HAPPY {age}th BIRTHDAY 🎉!!!\\n\\n\"\n",
    "                        \"On your special day, I want to take a moment to extend my heartfelt wishes to you.\\n\\n\"\n",
    "                        \"Your dedication, hard work, and positive attitude have not only made a significant impact on our team but have also made our workplace a better place to be.\\n\\n\"\n",
    "                        \"Warmest regards,\\n\"\n",
    "                        \"CYIENT TEAM\").format(age=age)\n",
    "\n",
    "                attachment = \"birthday.jpg\"\n",
    "                send_emails(email, subject, body)\n",
    "                 \n",
    "                \n",
    "        \n",
    "        if pd.notna(row['DOJ']):\n",
    "            doj = pd.to_datetime(row['DOJ'],format=\"%d-%m-%Y\").date()\n",
    "            year_of_experience = today.year - doj.year\n",
    "            if (today.month, today.day) < (doj.month, doj.day):\n",
    "                age -= 1\n",
    "            if doj.day == today.day and doj.month == today.month:\n",
    "                subject = \"🎉WORK ANNIVERSARY WISHES🎉\"\n",
    "                body = (f\"Dear ,\\n\\n\" \n",
    "                       \"Congratulations on working with us for {year_of_experience} year now!\\n\"\n",
    "                       \"Your dedication and hard work have made a tremendous impact on our team and company.\\n\"\n",
    "                       \"It’s been a pleasure working with you and witnessing your growth and contributions over the years.\\n\"\n",
    "                       \"Thank you for your commitment and the positive energy you bring to the workplace every day.\\n\"\n",
    "                       \"Here’s to celebrating your achievements and looking forward to many more successful years together!\\n\\n\"\n",
    "                       \"Warmest congratulations,\\n\"\n",
    "                       \"CYIENT TEAM\").format(year_of_experience = year_of_experience)               \n",
    "                \n",
    "                attachment = \"birthdayandwork.jpg\"\n",
    "                send_emails(email, subject, body)\n",
    "\n",
    "if __name__ ==\"__main__\":\n",
    "    file_path =\"EMAILTRIGGERFORBIRTHDAYOFEMPLOY1111.csv\"\n",
    "    load = get_csv_file(file_path)\n",
    "    check_for_birthdays_and_work_anniversary(load)\n"
   ]
  },
  {
   "cell_type": "code",
   "execution_count": null,
   "id": "3d9aff72-529a-43b8-a9d6-5b80da4988e6",
   "metadata": {},
   "outputs": [],
   "source": [
    "schedule.every().day.at(\"16:35\").do(send_emails)\n",
    "while True:\n",
    "    schedule.run_pending()\n",
    "    time.sleep(1)"
   ]
  },
  {
   "cell_type": "code",
   "execution_count": null,
   "id": "81db8970-9e42-46a9-8c36-7b3b258fd4d5",
   "metadata": {},
   "outputs": [],
   "source": []
  },
  {
   "cell_type": "code",
   "execution_count": null,
   "id": "c46917e6-5b67-4da1-9c7c-955269ecdd02",
   "metadata": {},
   "outputs": [],
   "source": []
  },
  {
   "cell_type": "code",
   "execution_count": null,
   "id": "4a13de15-ef4c-43c8-a8e5-78122a728263",
   "metadata": {},
   "outputs": [],
   "source": []
  },
  {
   "cell_type": "code",
   "execution_count": null,
   "id": "673114fc-fae7-4194-9c90-ed5011277782",
   "metadata": {},
   "outputs": [],
   "source": []
  },
  {
   "cell_type": "code",
   "execution_count": null,
   "id": "80a1aa29-43cb-444b-a8f9-c6c7c4d815ac",
   "metadata": {},
   "outputs": [],
   "source": []
  },
  {
   "cell_type": "code",
   "execution_count": null,
   "id": "a7d83305-bd30-43d1-91d7-3f452220ba24",
   "metadata": {},
   "outputs": [],
   "source": []
  },
  {
   "cell_type": "code",
   "execution_count": null,
   "id": "91299d00-f259-411f-b4cb-b5f788b6d211",
   "metadata": {},
   "outputs": [],
   "source": []
  },
  {
   "cell_type": "code",
   "execution_count": null,
   "id": "638a5908-31cd-4129-ab72-a0af17c51097",
   "metadata": {},
   "outputs": [],
   "source": []
  },
  {
   "cell_type": "code",
   "execution_count": null,
   "id": "f07c1ba1-fd35-46be-b06f-b08258eeaae9",
   "metadata": {},
   "outputs": [],
   "source": []
  },
  {
   "cell_type": "code",
   "execution_count": null,
   "id": "9aef2457-1f12-49fb-9156-3706b88ba608",
   "metadata": {},
   "outputs": [],
   "source": []
  },
  {
   "cell_type": "code",
   "execution_count": null,
   "id": "2f04c938-94bc-4e1f-b0df-4189249a82f8",
   "metadata": {},
   "outputs": [],
   "source": []
  }
 ],
 "metadata": {
  "kernelspec": {
   "display_name": "Python 3 (ipykernel)",
   "language": "python",
   "name": "python3"
  },
  "language_info": {
   "codemirror_mode": {
    "name": "ipython",
    "version": 3
   },
   "file_extension": ".py",
   "mimetype": "text/x-python",
   "name": "python",
   "nbconvert_exporter": "python",
   "pygments_lexer": "ipython3",
   "version": "3.12.4"
  }
 },
 "nbformat": 4,
 "nbformat_minor": 5
}
